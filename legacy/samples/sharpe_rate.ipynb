{
 "cells": [
  {
   "cell_type": "code",
   "execution_count": 9,
   "metadata": {},
   "outputs": [],
   "source": [
    "%matplotlib inline\n",
    "import quantstats as qs\n",
    "qs.extend_pandas()  # extend pandas functionality with metrics, etc."
   ]
  },
  {
   "cell_type": "code",
   "execution_count": null,
   "metadata": {},
   "outputs": [],
   "source": [
    "# def calculate_sharpe(ticker='META'):\n",
    "#     # fetch the daily returns for a stock\n",
    "#     stock = qs.utils.download_returns(ticker)"
   ]
  },
  {
   "cell_type": "code",
   "execution_count": null,
   "metadata": {},
   "outputs": [],
   "source": [
    "def calculate_sharpe(ticker='META'):\n",
    "    # fetch the daily returns for a stock\n",
    "    stock = qs.utils.download_returns(ticker)\n",
    "    print(type(stock))\n",
    "\n",
    "    # show sharpe ratio\n",
    "    qs.stats.sharpe(stock)\n",
    "\n",
    "    # or using extend_pandas() :)\n",
    "    return stock.sharpe()"
   ]
  },
  {
   "cell_type": "code",
   "execution_count": 10,
   "metadata": {},
   "outputs": [
    {
     "name": "stdout",
     "output_type": "stream",
     "text": [
      "[*********************100%***********************]  1 of 1 completed\n",
      "<class 'pandas.core.series.Series'>\n"
     ]
    },
    {
     "data": {
      "text/plain": [
       "0.6607794414648016"
      ]
     },
     "execution_count": 10,
     "metadata": {},
     "output_type": "execute_result"
    }
   ],
   "source": [
    "# for ticker in ('MSFT', 'TSLA', 'AAPL', 'AMZN', 'NFLX', 'GOOG'):\n",
    "#     print(calculate_sharpe(ticker))\n",
    "\n",
    "calculate_sharpe()"
   ]
  },
  {
   "cell_type": "code",
   "execution_count": 11,
   "metadata": {},
   "outputs": [],
   "source": [
    "# [f for f in dir(qs.stats) if f[0] != '_']"
   ]
  }
 ],
 "metadata": {
  "kernelspec": {
   "display_name": "MonetQ-iB4uS20c",
   "language": "python",
   "name": "python3"
  },
  "language_info": {
   "codemirror_mode": {
    "name": "ipython",
    "version": 3
   },
   "file_extension": ".py",
   "mimetype": "text/x-python",
   "name": "python",
   "nbconvert_exporter": "python",
   "pygments_lexer": "ipython3",
   "version": "3.11.0"
  },
  "orig_nbformat": 4
 },
 "nbformat": 4,
 "nbformat_minor": 2
}
